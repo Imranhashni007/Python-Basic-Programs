{
 "cells": [
  {
   "cell_type": "code",
   "execution_count": 1,
   "id": "c4a48f2f-b5eb-4c94-9d54-dd1eedf37c4f",
   "metadata": {},
   "outputs": [
    {
     "name": "stdin",
     "output_type": "stream",
     "text": [
      "Enter the radius to get area 5\n"
     ]
    },
    {
     "name": "stdout",
     "output_type": "stream",
     "text": [
      "78.5\n"
     ]
    }
   ],
   "source": [
    "# Write a Python program which accepts the radius of a circle from the user and compute the area.\n",
    "\"\"\"\n",
    "Solution:\n",
    "        0:import library maths\n",
    "        1: Take input\n",
    "        2:Convert into int\n",
    "        3: Add formula \n",
    "        4: display result \n",
    "\"\"\"\n",
    "import math \n",
    "Input=input(\"Enter the radius to get area\")\n",
    "Radius=int(Input)\n",
    "Area= 3.14*Radius**2\n",
    "print(Area)"
   ]
  },
  {
   "cell_type": "code",
   "execution_count": 9,
   "id": "b9db5126-3961-40d9-a61b-f6fa68e7af3e",
   "metadata": {},
   "outputs": [
    {
     "name": "stdin",
     "output_type": "stream",
     "text": [
      "Enter first name imran \n",
      "Enter last name hashmi\n"
     ]
    },
    {
     "name": "stdout",
     "output_type": "stream",
     "text": [
      " narmi imhsah\n"
     ]
    }
   ],
   "source": [
    "# Write a Python program which accepts the user's first and last name and print them in reverse order with a space between them.\n",
    "\"\"\"\n",
    "Solution:\n",
    "        0:Input first name\n",
    "        1: Input last name\n",
    "        2: print last and last name \n",
    "           using [;;-1] its reverse the string\n",
    "\"\"\"\n",
    "First_Name=input(\"Enter first name\")\n",
    "Last_Name=input(\"Enter last name\")\n",
    "print(First_Name[::-1],Last_Name[::-1])"
   ]
  },
  {
   "cell_type": "code",
   "execution_count": 28,
   "id": "4780a73d-488f-438f-beda-c0390b25e976",
   "metadata": {},
   "outputs": [
    {
     "name": "stdin",
     "output_type": "stream",
     "text": [
      "Enter comma seprated numbers 7,77,88,98,77\n"
     ]
    },
    {
     "name": "stdout",
     "output_type": "stream",
     "text": [
      "['7,77,88,98,77']\n",
      "('7,77,88,98,77',)\n"
     ]
    }
   ],
   "source": [
    "#Write a Python program which accepts a sequence of comma-separated numbers from user and generate a list and a tuple with those numbers\n",
    "\"\"\"\n",
    "Solution:\n",
    "        0:Input number\n",
    "        1: use split(number) for list\n",
    "        2: use tuple function and pass list for tuple\n",
    "        3: print list and tuple\n",
    "\"\"\"\n",
    "Number=input(\"Enter comma seprated numbers\")\n",
    "Gen_List=Number.split(\", \")\n",
    "Gen_Tuple = tuple(Gen_List)\n",
    "print(Gen_List)\n",
    "print(Gen_Tuple)"
   ]
  },
  {
   "cell_type": "code",
   "execution_count": 5,
   "id": "fdddf95a-987b-4194-98d1-a2df1cd53611",
   "metadata": {},
   "outputs": [
    {
     "name": "stdin",
     "output_type": "stream",
     "text": [
      "file path file path C:\\\\Users\\\\ih772\\\\OneDrive\\\\Documents\\\\My data\\\\CV[1].pdf\n"
     ]
    },
    {
     "name": "stdout",
     "output_type": "stream",
     "text": [
      "the file Extension is  .pdf\n"
     ]
    }
   ],
   "source": [
    "# Write a Python program to accept a filename from the user and print the extension of file\n",
    "\"\"\"\n",
    "Solution:\n",
    "        0:Input file name\n",
    "        1: import os\n",
    "        2: use  path.splitext fto get extension\n",
    "        3: print file extension\n",
    "\"\"\"\n",
    "import os\n",
    "File_name=input(\"file path\")\n",
    "File_extension=os.path.splitext(File_name)\n",
    "print(\"the file Extension is \",File_extension[1])"
   ]
  },
  {
   "cell_type": "code",
   "execution_count": 17,
   "id": "9876bee2-4486-4664-a0f0-0a2ea5b41ff3",
   "metadata": {},
   "outputs": [
    {
     "name": "stdin",
     "output_type": "stream",
     "text": [
      "Enter start Date formate %Y-%m-%d  2024-09-9\n",
      "Enter end Date %Y-%m-%d 2023-09-2\n"
     ]
    },
    {
     "name": "stdout",
     "output_type": "stream",
     "text": [
      "373 days, 0:00:00\n"
     ]
    }
   ],
   "source": [
    "#Write a Python program to calculate number of days between two dates.\n",
    "\"\"\"\n",
    "Solution:\n",
    "        0:import library\n",
    "        1: set formate\n",
    "        2: input start and end date\n",
    "        3: apply strptime function\n",
    "        4:subtract start date from end date \n",
    "        5: print days\n",
    "\"\"\"\n",
    "from datetime import datetime\n",
    "date_format=\"%Y-%m-%d\"\n",
    "Start_Date=input(\"Enter start Date formate %Y-%m-%d \")\n",
    "End_date=input(\"Enter end Date %Y-%m-%d\")\n",
    "Date1 = datetime.strptime(Start_Date, date_format)\n",
    "Date2 = datetime.strptime(End_date, date_format)\n",
    "Days=Date1-Date2\n",
    "print(Days)"
   ]
  },
  {
   "cell_type": "code",
   "execution_count": 20,
   "id": "4bd01bb6-028f-45db-893a-90e3a93597de",
   "metadata": {},
   "outputs": [
    {
     "name": "stdin",
     "output_type": "stream",
     "text": [
      "Enter number between 1 and 1000 22\n"
     ]
    },
    {
     "name": "stdout",
     "output_type": "stream",
     "text": [
      "twenty-two\n"
     ]
    }
   ],
   "source": [
    "#Write a python programe which takes an integer between 1 and 10000 and print it in words\n",
    "\"\"\"\n",
    "Solution:\n",
    "        0:import library  inflect\n",
    "        1: input number\n",
    "        2: convert into int\n",
    "        3: Add  condition\n",
    "        4: create object for number conversion\n",
    "        5: call object + number_to_words function \n",
    "        6:print result\n",
    "\"\"\"\n",
    "import inflect\n",
    "Number=input(\"Enter number between 1 and 1000\")\n",
    "Number=int(Number)\n",
    "if Number>0 and Number<=1000:\n",
    "     p = inflect.engine()\n",
    "     print(p.number_to_words(Number))\n",
    "else:\n",
    "    print(\"Number is not in between 1 and 1000\")"
   ]
  },
  {
   "cell_type": "code",
   "execution_count": 37,
   "id": "6f1f8be1-c80e-4ba7-9540-beb3dfbe6e55",
   "metadata": {},
   "outputs": [
    {
     "name": "stdin",
     "output_type": "stream",
     "text": [
      "Enter Lenght of rectangle 4\n",
      "Enter width of rectangle 4\n"
     ]
    },
    {
     "name": "stdout",
     "output_type": "stream",
     "text": [
      "****\n",
      "****\n",
      "****\n",
      "****\n"
     ]
    }
   ],
   "source": [
    "#Write a python programe which takes two integers 'length' and 'width' and prints rectangle using *\n",
    "\"\"\"\n",
    "Solution:\n",
    "        0:input lenght and width\n",
    "        1: convert into int\n",
    "        2: apply loop\n",
    "        3: print *\n",
    "\"\"\"\n",
    "Lenght=input(\"Enter Lenght of rectangle\")\n",
    "Lenght=int(Lenght)\n",
    "Width=input(\"Enter width of rectangle\")\n",
    "Width=int(Width)\n",
    "for i in range(Lenght):\n",
    "    print(\"*\" * Width)\n",
    "    "
   ]
  },
  {
   "cell_type": "code",
   "execution_count": 51,
   "id": "a430e3ee-b947-499e-a5e5-9c0ec059c8cd",
   "metadata": {},
   "outputs": [
    {
     "name": "stdin",
     "output_type": "stream",
     "text": [
      "Enter comma seprated numbers for x-axis 2,3,4,5\n",
      "Enter comma seprated numbers for y-axis 4,5,6,7\n"
     ]
    },
    {
     "name": "stdout",
     "output_type": "stream",
     "text": [
      "['2', ',', '3', ',', '4', ',', '5']\n"
     ]
    },
    {
     "data": {
      "image/png": "[encoded data removed]",
      "text/plain": [
       "<Figure size 432x288 with 1 Axes>"
      ]
     },
     "metadata": {
      "needs_background": "light"
     },
     "output_type": "display_data"
    }
   ],
   "source": [
    "#Write a Python program which accepts a sequence of comma-separated numbers from user and generate Bar Graph using '*' with those numbers\n",
    "\"\"\"\n",
    "Solution:\n",
    "        0:import library  matplot.lib and numpy\n",
    "        1: input x and y \n",
    "        2: convert into list\n",
    "        3: convert x and y axis into array \n",
    "        4: add bar graph\n",
    "        5: show graph\n",
    "\"\"\"\n",
    "import matplotlib.pyplot as plt\n",
    "import numpy as np\n",
    "X_axis=input(\"Enter comma seprated numbers for x-axis\")\n",
    "Y_axis=input(\"Enter comma seprated numbers for y-axis\")\n",
    "Gen_List_X=list(X_axis)\n",
    "Gen_List_Y=list(Y_axis)\n",
    "x = np.array(Gen_List_X)\n",
    "y = np.array(Gen_List_Y)\n",
    "plt.bar(x,y)\n",
    "plt.show()"
   ]
  },
  {
   "cell_type": "code",
   "execution_count": 54,
   "id": "c23685f0-2496-483b-91e5-1eb9fbb957e7",
   "metadata": {},
   "outputs": [
    {
     "name": "stdin",
     "output_type": "stream",
     "text": [
      "Enter positive integer 22\n",
      "Enter positive integer 33\n"
     ]
    },
    {
     "name": "stdout",
     "output_type": "stream",
     "text": [
      "11\n"
     ]
    }
   ],
   "source": [
    "#Write a Python program to compute the greatest common divisor (GCD) of two positive integers\n",
    "\"\"\"\n",
    "Solution:\n",
    "        0:import library  math\n",
    "        1: input first and last \n",
    "        2: convert into int\n",
    "        3: buildin function gcd \n",
    "        4: print\n",
    "\n",
    "\"\"\"\n",
    "import math as m\n",
    "Fisrt_integer=input(\"Enter positive integer\")\n",
    "x=int(Fisrt_integer)\n",
    "Second_integer=input(\"Enter positive integer\")\n",
    "y=int(Second_integer)\n",
    "GCD=m.gcd(x,y)\n",
    "print(GCD)"
   ]
  },
  {
   "cell_type": "code",
   "execution_count": 56,
   "id": "8b45ec5b-bd90-47e3-9e9a-06a0da287090",
   "metadata": {},
   "outputs": [
    {
     "name": "stdin",
     "output_type": "stream",
     "text": [
      "Enter positive integer 56\n",
      "Enter positive integer 77\n"
     ]
    },
    {
     "name": "stdout",
     "output_type": "stream",
     "text": [
      "616\n"
     ]
    }
   ],
   "source": [
    "#Write a Python program to get the least common multiple (LCM) of two positive integers.\n",
    "\"\"\"\n",
    "Solution:\n",
    "        0:import library  math\n",
    "        1: input first and last \n",
    "        2: convert into int\n",
    "        3:use formula abs(x * y) // m.gcd(x, y)\n",
    "        4:print\n",
    "\"\"\"\n",
    "import math as m\n",
    "Fisrt_integer=input(\"Enter positive integer\")\n",
    "x=int(Fisrt_integer)\n",
    "Second_integer=input(\"Enter positive integer\")\n",
    "y=int(Second_integer)\n",
    "LCM=abs(x * y) // m.gcd(x, y)\n",
    "print(LCM)"
   ]
  },
  {
   "cell_type": "code",
   "execution_count": 60,
   "id": "41c973e4-0e71-460c-921c-90f5998b8d61",
   "metadata": {},
   "outputs": [
    {
     "name": "stdout",
     "output_type": "stream",
     "text": [
      "['hi', 'this', 'is', 'imran', 'hashmi']\n",
      "['hashmi', 'hi', 'imran', 'is', 'this']\n",
      "hashmi hi imran is this\n"
     ]
    }
   ],
   "source": [
    "#Write a Python program to sort all words of a given string\n",
    "\"\"\"\n",
    "Solution:\n",
    "        0:split words\n",
    "        1:sort words\n",
    "        2: join to make string\n",
    "        3:print\n",
    "\"\"\"\n",
    "word=\"hi this is imran hashmi\"\n",
    "words = word.split()\n",
    "sorted_words = sorted(words)\n",
    "sorted_string = ' '.join(sorted_words)\n",
    "print(sorted_string)"
   ]
  },
  {
   "cell_type": "code",
   "execution_count": 61,
   "id": "6e734ba0-76aa-4b21-8fc2-3d492a0e112f",
   "metadata": {},
   "outputs": [
    {
     "data": {
      "text/plain": [
       "True"
      ]
     },
     "execution_count": 61,
     "metadata": {},
     "output_type": "execute_result"
    }
   ],
   "source": [
    "#Write a Python program to check if a string contains all letters of the alphabet\n",
    "\"\"\"\n",
    "Solution:\n",
    "        0:convert it into lower\n",
    "        1: make set of  alphabets\n",
    "        2: make set of string\n",
    "        3: use issubset to compare both set if has all values it returns true\n",
    "\"\"\"\n",
    "input_string=\"The quick brown fox jumps over the lazy dog\"\n",
    "input_string = input_string.lower()\n",
    "alphabet_set = set('abcdefghijklmnopqrstuvwxyz')\n",
    "input_set = set(input_string)\n",
    "alphabet_set.issubset(input_set)"
   ]
  },
  {
   "cell_type": "code",
   "execution_count": 72,
   "id": "e398a237-fac8-4be5-a3a5-38708cb26237",
   "metadata": {},
   "outputs": [
    {
     "name": "stdout",
     "output_type": "stream",
     "text": [
      "The longest word is: quick\n"
     ]
    }
   ],
   "source": [
    "#Write a Python program to find smallest and largest word in a given string\n",
    "\"\"\"\n",
    "Solution:\n",
    "        0:split words\n",
    "        1: set max word into first word\n",
    "        2: take lenght of 1 word\n",
    "        3: loop for string\n",
    "        4:get lenght of word\n",
    "        5:apply condition\n",
    "        6:make max word with current word\n",
    "        7:replace max lenght with current lenght word\n",
    "\n",
    "\"\"\"\n",
    "input_string = \"The quick brown fox jumps over the lazy dog\"\n",
    "words = input_string.split()\n",
    "max_word = words[0]\n",
    "max_length = len(max_word)\n",
    "for word in words:\n",
    "    word_length = len(word)\n",
    "    if word_length > max_length:\n",
    "        max_word = word\n",
    "        max_length = word_length\n",
    "\n",
    "print(\"The longest word is:\", max_word)\n",
    "   "
   ]
  },
  {
   "cell_type": "code",
   "execution_count": 79,
   "id": "1524d871-45ed-4d91-b754-4546f320ca19",
   "metadata": {},
   "outputs": [
    {
     "name": "stdin",
     "output_type": "stream",
     "text": [
      "Enter a number 34\n",
      "Enter a number 55\n",
      "Enter a number 66\n",
      "Enter a number 32\n",
      "Enter a number 21\n",
      "Enter a number 45\n"
     ]
    },
    {
     "name": "stdout",
     "output_type": "stream",
     "text": [
      "['66', '55', '45', '34', '32', '21']\n"
     ]
    }
   ],
   "source": [
    "# Write a Python program that accepts six numbers as input and sorts them in descending order \n",
    "\"\"\"\n",
    "Solution:\n",
    "        0:Empty list\n",
    "        1: loop for input\n",
    "        2: append to list\n",
    "        3: sort list\n",
    "        4:print on reserve way\n",
    "\n",
    "\"\"\"\n",
    "num_list=[]\n",
    "for num in range(6): \n",
    "    Num=input(\"Enter a number\")\n",
    "    num_list.append(Num)\n",
    "num_list.sort()\n",
    "print(num_list[::-1])"
   ]
  },
  {
   "cell_type": "code",
   "execution_count": 1,
   "id": "1ad84958-4538-4c75-890b-9a4d11336dab",
   "metadata": {},
   "outputs": [
    {
     "name": "stdin",
     "output_type": "stream",
     "text": [
      "first number 45\n",
      "second number 66\n"
     ]
    },
    {
     "name": "stdout",
     "output_type": "stream",
     "text": [
      "111\n",
      "The number of carry operations for 45 + 66 is: 1\n"
     ]
    },
    {
     "name": "stdin",
     "output_type": "stream",
     "text": [
      "first number 44\n",
      "second number 42\n"
     ]
    },
    {
     "name": "stdout",
     "output_type": "stream",
     "text": [
      "86\n",
      "The number of carry operations for 44 + 42 is: 1\n"
     ]
    },
    {
     "name": "stdin",
     "output_type": "stream",
     "text": [
      "first number 44\n",
      "second number 59\n"
     ]
    },
    {
     "name": "stdout",
     "output_type": "stream",
     "text": [
      "103\n",
      "The number of carry operations for 44 + 59 is: 1\n"
     ]
    }
   ],
   "source": [
    "#Write a Python program to count the number of carry operations for each of a set of addition problems.\n",
    "carry=0\n",
    "for num in range(3):\n",
    "    number1=int(input(\"first number\"))\n",
    "    number2=int(input(\"second number\"))\n",
    "    num3=int(number1+number2)\n",
    "    print(num3)\n",
    "    if num3>10:\n",
    "        carry=carry+1\n",
    "    else:\n",
    "        carry=0\n",
    "    print(f\"The number of carry operations for {number1} + {number2} is: {carry}\")\n",
    "    carry=carry-1"
   ]
  },
  {
   "cell_type": "code",
   "execution_count": 10,
   "id": "0b82cf2a-6c55-4c6a-b73c-409eaf70563e",
   "metadata": {},
   "outputs": [
    {
     "name": "stdout",
     "output_type": "stream",
     "text": [
      "Common divisors of 90 and 40: [1, 2, 5, 10]\n"
     ]
    }
   ],
   "source": [
    "#Write a Python program to find all common divisors between two numbers in a given pair\n",
    "\"\"\"\n",
    "Solution:\n",
    "        0:import library\n",
    "        1: get gcd value by using formula\n",
    "        2: Declear empty list\n",
    "        3: Apply loop for 1 to all the gcd values\n",
    "        4: Check the given gcd is divided by number or not\n",
    "        5: \n",
    "\n",
    "\"\"\"\n",
    "import math\n",
    "num1 = 90\n",
    "num2 = 40\n",
    "gcd_value = math.gcd(num1, num2)\n",
    "common_divisors = []\n",
    "for i in range(1, gcd_value + 1):\n",
    "    if gcd_value % i == 0:\n",
    "        common_divisors.append(i)\n",
    "print(f\"Common divisors of {num1} and {num2}: {common_divisors}\")\n"
   ]
  },
  {
   "cell_type": "code",
   "execution_count": 11,
   "id": "d4cad5c3-8e1a-45ef-9e79-1bb7df8e2be8",
   "metadata": {},
   "outputs": [
    {
     "name": "stdout",
     "output_type": "stream",
     "text": [
      "4\n",
      "2\n"
     ]
    }
   ],
   "source": [
    "#Write a Python program to find the type of the progression (arithmetic progression/geometric progression) and the next successive member of a given three successive members of a sequence.\n",
    "\"\"\"\n",
    "Solution:\n",
    "        0:import library\n",
    "        1: get gcd value by using formula\n",
    "        2: Declear empty list\n",
    "        3: Apply loop for 1 to all the gcd values\n",
    "        4: Check the given gcd is divided by number or not\n",
    "        5: \n",
    "\n",
    "\"\"\"\n",
    "num1=2\n",
    "num2=4\n",
    "num3=8\n",
    "num1=num2-num1\n",
    "num2=num3-num2\n",
    "print(num2)\n",
    "print(num1)\n",
    "if num1==num2:\n",
    "    print(\"The progression is Arthamatic\")\n",
    "elif num2/num1 == num2/num3:\n",
    "     print(\"The progression is Geomatric\")\n"
   ]
  },
  {
   "cell_type": "code",
   "execution_count": 6,
   "id": "04a52977-b021-4145-98fb-ca6ce557b444",
   "metadata": {},
   "outputs": [
    {
     "name": "stdout",
     "output_type": "stream",
     "text": [
      "Type of progression: Geometric Progression (GP)\n",
      "Next successive member after 8: 16.0\n"
     ]
    }
   ],
   "source": [
    "a = 2\n",
    "b = 4\n",
    "c = 8\n",
    "if b - a == c - b:\n",
    "d = b - a\n",
    "print(f\"Type of progression: Arithmetic Progression (AP)\")\n",
    "print(f\"Next successive member after {c}: {c + d}\")\n",
    "elif b / a == c / b:\n",
    " r = b / a\n",
    "print(f\"Type of progression: Geometric Progression (GP)\")\n",
    "print(f\"Next successive member after {c}: {c * r}\")\n",
    "else:\n",
    "    print(\"The given sequence is neither AP nor GP.\")\n",
    "\n",
    "\n",
    "\n"
   ]
  },
  {
   "cell_type": "code",
   "execution_count": 12,
   "id": "e3309de1-5e37-489a-81a2-808ba9982d73",
   "metadata": {},
   "outputs": [
    {
     "name": "stdout",
     "output_type": "stream",
     "text": [
      "string contains lower letter: i\n",
      "string contains lower letter: m\n",
      "string contains lower letter: r\n",
      "string contains lower letter: a\n",
      "string contains lower letter: n\n"
     ]
    }
   ],
   "source": [
    "#Write a Python program to check if lowercase letters exist in a string.\n",
    "\"\"\"\n",
    "Solution:\n",
    "        0:Declear string\n",
    "        1: apply loop\n",
    "        2: use islower function\n",
    "        3: print\n",
    "\n",
    "\"\"\"\n",
    "letters=\"HI IAM imran\"\n",
    "for alphabets in letters:\n",
    "    if alphabets.islower():\n",
    "        print(f\"string contains lower letter: {alphabets}\")"
   ]
  },
  {
   "cell_type": "code",
   "execution_count": 21,
   "id": "ee438f3f-5df1-4556-8985-15c6b757470e",
   "metadata": {},
   "outputs": [
    {
     "name": "stdout",
     "output_type": "stream",
     "text": [
      "64bit\n",
      "nt\n",
      "Windows\n"
     ]
    }
   ],
   "source": [
    "#Write a Python program to determine if a Python shell is executing in 32bit or 64bit mode on OS.\n",
    "\"\"\"\n",
    "Solution:\n",
    "        0:import library platform and os\n",
    "        1: use function platform.architecture\n",
    "        2: print \n",
    "\n",
    "\"\"\"\n",
    "import platform\n",
    "import sys\n",
    "import os \n",
    "architecture = platform.architecture()[0]\n",
    "print(architecture)\n"
   ]
  },
  {
   "cell_type": "code",
   "execution_count": 23,
   "id": "82c11aff-4778-4559-acf0-b8237110beb6",
   "metadata": {},
   "outputs": [
    {
     "name": "stdout",
     "output_type": "stream",
     "text": [
      "nt\n",
      "Windows\n",
      "10\n"
     ]
    }
   ],
   "source": [
    "#Write a Python program to get OS name, platform and release information.\n",
    "\"\"\"\n",
    "Solution:\n",
    "        0:import library platform and os\n",
    "        1: use function os.name for name\n",
    "        2: platform.system for plat form\n",
    "        3: platform.release() for release date and info\n",
    "\n",
    "\"\"\"\n",
    "import platform\n",
    "import os \n",
    "print(os.name)\n",
    "print(platform.system())\n",
    "print(platform.release())"
   ]
  },
  {
   "cell_type": "code",
   "execution_count": 31,
   "id": "5aeacfc6-4961-443c-97d0-3c52d4670559",
   "metadata": {},
   "outputs": [
    {
     "name": "stdout",
     "output_type": "stream",
     "text": [
      "101\n",
      "101.0\n"
     ]
    }
   ],
   "source": [
    "#Write a Python program to parse a string to Float or Integer.\n",
    "\"\"\"\n",
    "Solution:\n",
    "        0:declear string\n",
    "        1: int(string) for integer\n",
    "        2: float(string) for float\n",
    "        3: print\n",
    "\n",
    "\"\"\"\n",
    "parse_string=\"101\"\n",
    "integer=int(parse_string)\n",
    "parse_float=float(parse_string)\n",
    "print(integer)\n",
    "print(parse_float)"
   ]
  },
  {
   "cell_type": "code",
   "execution_count": 33,
   "id": "7a4dbc4d-0dc3-4c29-a309-781ff35751de",
   "metadata": {},
   "outputs": [
    {
     "name": "stdout",
     "output_type": "stream",
     "text": [
      "['C:\\\\Program Files\\\\Autosphere\\\\Process Studio\\\\App\\\\Python', 'C:\\\\Program Files\\\\Autosphere\\\\Process Studio\\\\App\\\\Python\\\\lib\\\\site-packages']\n"
     ]
    }
   ],
   "source": [
    "#Write a Python program to locate Python site-packages.\n",
    "\"\"\"\n",
    "Solution:\n",
    "        0:declear string\n",
    "        1: int(string) for integer\n",
    "        2: float(string) for float\n",
    "        3: print\n",
    "\n",
    "\"\"\"\n",
    "import site\n",
    "site_packages = site.getsitepackages()\n",
    "print(site_packages )"
   ]
  },
  {
   "cell_type": "code",
   "execution_count": 44,
   "id": "848b3466-b3c0-4835-bab9-05a6de34bbdf",
   "metadata": {},
   "outputs": [
    {
     "ename": "FileNotFoundError",
     "evalue": "[WinError 2] The system cannot find the file specified",
     "output_type": "error",
     "traceback": [
      "\u001b[1;31m---------------------------------------------------------------------------\u001b[0m",
      "\u001b[1;31mFileNotFoundError\u001b[0m                         Traceback (most recent call last)",
      "\u001b[1;32m<ipython-input-44-b0e43c601a2b>\u001b[0m in \u001b[0;36m<module>\u001b[1;34m\u001b[0m\n\u001b[0;32m      1\u001b[0m \u001b[1;32mimport\u001b[0m \u001b[0msubprocess\u001b[0m\u001b[1;33m\u001b[0m\u001b[1;33m\u001b[0m\u001b[0m\n\u001b[1;32m----> 2\u001b[1;33m \u001b[0mresult\u001b[0m \u001b[1;33m=\u001b[0m \u001b[0msubprocess\u001b[0m\u001b[1;33m.\u001b[0m\u001b[0mrun\u001b[0m\u001b[1;33m(\u001b[0m\u001b[1;33m[\u001b[0m\u001b[1;34m'ls'\u001b[0m\u001b[1;33m,\u001b[0m \u001b[1;34m'-l'\u001b[0m\u001b[1;33m]\u001b[0m\u001b[1;33m)\u001b[0m\u001b[1;33m\u001b[0m\u001b[1;33m\u001b[0m\u001b[0m\n\u001b[0m\u001b[0;32m      3\u001b[0m \u001b[1;33m\u001b[0m\u001b[0m\n",
      "\u001b[1;32mC:\\Program Files\\Autosphere\\Process Studio\\App\\Python\\lib\\subprocess.py\u001b[0m in \u001b[0;36mrun\u001b[1;34m(input, capture_output, timeout, check, *popenargs, **kwargs)\u001b[0m\n\u001b[0;32m    486\u001b[0m         \u001b[0mkwargs\u001b[0m\u001b[1;33m[\u001b[0m\u001b[1;34m'stderr'\u001b[0m\u001b[1;33m]\u001b[0m \u001b[1;33m=\u001b[0m \u001b[0mPIPE\u001b[0m\u001b[1;33m\u001b[0m\u001b[1;33m\u001b[0m\u001b[0m\n\u001b[0;32m    487\u001b[0m \u001b[1;33m\u001b[0m\u001b[0m\n\u001b[1;32m--> 488\u001b[1;33m     \u001b[1;32mwith\u001b[0m \u001b[0mPopen\u001b[0m\u001b[1;33m(\u001b[0m\u001b[1;33m*\u001b[0m\u001b[0mpopenargs\u001b[0m\u001b[1;33m,\u001b[0m \u001b[1;33m**\u001b[0m\u001b[0mkwargs\u001b[0m\u001b[1;33m)\u001b[0m \u001b[1;32mas\u001b[0m \u001b[0mprocess\u001b[0m\u001b[1;33m:\u001b[0m\u001b[1;33m\u001b[0m\u001b[1;33m\u001b[0m\u001b[0m\n\u001b[0m\u001b[0;32m    489\u001b[0m         \u001b[1;32mtry\u001b[0m\u001b[1;33m:\u001b[0m\u001b[1;33m\u001b[0m\u001b[1;33m\u001b[0m\u001b[0m\n\u001b[0;32m    490\u001b[0m             \u001b[0mstdout\u001b[0m\u001b[1;33m,\u001b[0m \u001b[0mstderr\u001b[0m \u001b[1;33m=\u001b[0m \u001b[0mprocess\u001b[0m\u001b[1;33m.\u001b[0m\u001b[0mcommunicate\u001b[0m\u001b[1;33m(\u001b[0m\u001b[0minput\u001b[0m\u001b[1;33m,\u001b[0m \u001b[0mtimeout\u001b[0m\u001b[1;33m=\u001b[0m\u001b[0mtimeout\u001b[0m\u001b[1;33m)\u001b[0m\u001b[1;33m\u001b[0m\u001b[1;33m\u001b[0m\u001b[0m\n",
      "\u001b[1;32mC:\\Program Files\\Autosphere\\Process Studio\\App\\Python\\lib\\subprocess.py\u001b[0m in \u001b[0;36m__init__\u001b[1;34m(self, args, bufsize, executable, stdin, stdout, stderr, preexec_fn, close_fds, shell, cwd, env, universal_newlines, startupinfo, creationflags, restore_signals, start_new_session, pass_fds, encoding, errors, text)\u001b[0m\n\u001b[0;32m    798\u001b[0m                                 \u001b[0mc2pread\u001b[0m\u001b[1;33m,\u001b[0m \u001b[0mc2pwrite\u001b[0m\u001b[1;33m,\u001b[0m\u001b[1;33m\u001b[0m\u001b[1;33m\u001b[0m\u001b[0m\n\u001b[0;32m    799\u001b[0m                                 \u001b[0merrread\u001b[0m\u001b[1;33m,\u001b[0m \u001b[0merrwrite\u001b[0m\u001b[1;33m,\u001b[0m\u001b[1;33m\u001b[0m\u001b[1;33m\u001b[0m\u001b[0m\n\u001b[1;32m--> 800\u001b[1;33m                                 restore_signals, start_new_session)\n\u001b[0m\u001b[0;32m    801\u001b[0m         \u001b[1;32mexcept\u001b[0m\u001b[1;33m:\u001b[0m\u001b[1;33m\u001b[0m\u001b[1;33m\u001b[0m\u001b[0m\n\u001b[0;32m    802\u001b[0m             \u001b[1;31m# Cleanup if the child failed starting.\u001b[0m\u001b[1;33m\u001b[0m\u001b[1;33m\u001b[0m\u001b[1;33m\u001b[0m\u001b[0m\n",
      "\u001b[1;32mC:\\Program Files\\Autosphere\\Process Studio\\App\\Python\\lib\\subprocess.py\u001b[0m in \u001b[0;36m_execute_child\u001b[1;34m(self, args, executable, preexec_fn, close_fds, pass_fds, cwd, env, startupinfo, creationflags, shell, p2cread, p2cwrite, c2pread, c2pwrite, errread, errwrite, unused_restore_signals, unused_start_new_session)\u001b[0m\n\u001b[0;32m   1205\u001b[0m                                          \u001b[0menv\u001b[0m\u001b[1;33m,\u001b[0m\u001b[1;33m\u001b[0m\u001b[1;33m\u001b[0m\u001b[0m\n\u001b[0;32m   1206\u001b[0m                                          \u001b[0mos\u001b[0m\u001b[1;33m.\u001b[0m\u001b[0mfspath\u001b[0m\u001b[1;33m(\u001b[0m\u001b[0mcwd\u001b[0m\u001b[1;33m)\u001b[0m \u001b[1;32mif\u001b[0m \u001b[0mcwd\u001b[0m \u001b[1;32mis\u001b[0m \u001b[1;32mnot\u001b[0m \u001b[1;32mNone\u001b[0m \u001b[1;32melse\u001b[0m \u001b[1;32mNone\u001b[0m\u001b[1;33m,\u001b[0m\u001b[1;33m\u001b[0m\u001b[1;33m\u001b[0m\u001b[0m\n\u001b[1;32m-> 1207\u001b[1;33m                                          startupinfo)\n\u001b[0m\u001b[0;32m   1208\u001b[0m             \u001b[1;32mfinally\u001b[0m\u001b[1;33m:\u001b[0m\u001b[1;33m\u001b[0m\u001b[1;33m\u001b[0m\u001b[0m\n\u001b[0;32m   1209\u001b[0m                 \u001b[1;31m# Child is launched. Close the parent's copy of those pipe\u001b[0m\u001b[1;33m\u001b[0m\u001b[1;33m\u001b[0m\u001b[1;33m\u001b[0m\u001b[0m\n",
      "\u001b[1;31mFileNotFoundError\u001b[0m: [WinError 2] The system cannot find the file specified"
     ]
    }
   ],
   "source": [
    "import subprocess\n",
    "result = subprocess.run(['ls', '-l'])\n",
    "\n"
   ]
  },
  {
   "cell_type": "code",
   "execution_count": 54,
   "id": "8e9e259e-7ae1-4cef-87c1-481f3dcbafcf",
   "metadata": {},
   "outputs": [
    {
     "name": "stdout",
     "output_type": "stream",
     "text": [
      "C:\\Users\\ih772\\Documents\\Process Studio Workspace\\Python Basic Programming\n",
      "6\n",
      "Python Basic Programming\n"
     ]
    }
   ],
   "source": [
    "#Write a python program to get the path and name of the file that is currently executing.\n",
    "\"\"\"\n",
    "Solution:\n",
    "        0:import libarary\n",
    "        1: get path using getcwd()\n",
    "        2: split string to get list \n",
    "        3: get lenght of list\n",
    "        4:get last index this is file \n",
    "        5:print\n",
    "\n",
    "\"\"\"\n",
    "import os \n",
    "path=os.getcwd()\n",
    "print(path)\n",
    "lis=path.split(\"\\\\\")\n",
    "print(len(lis))\n",
    "file=lis[5]\n",
    "print(file)"
   ]
  },
  {
   "cell_type": "code",
   "execution_count": 57,
   "id": "e91e0be4-0f73-443b-a28b-5cf7e36bd8a0",
   "metadata": {},
   "outputs": [
    {
     "name": "stdout",
     "output_type": "stream",
     "text": [
      "The number of CPU current using is: 8\n"
     ]
    }
   ],
   "source": [
    "#Write a Python program to find out the number of CPUs using.\n",
    "\"\"\"\n",
    "\n",
    "\"\"\"\n",
    "import os\n",
    "print(\"The number of CPU current using is:\",os.cpu_count()) "
   ]
  },
  {
   "cell_type": "code",
   "execution_count": 58,
   "id": "789a4298-a80a-4d98-8701-511c5ce093dc",
   "metadata": {},
   "outputs": [
    {
     "name": "stdout",
     "output_type": "stream",
     "text": [
      "Files and directories in ' C://Users//ih772//Documents//Process Studio Workspace ' :\n",
      "['Amazon rpa books', 'background verification', 'Booking Land Virtual', 'Capcha bipass', 'customer onboarding', 'cyber security', 'day 6', 'desktop automation', 'excel automation', 'file extraction into excel', 'frames and iframes', 'git.txt', 'HR portal', 'HUMANITARIAN RESPONSE', 'integrating gpt', 'job description', 'login portal', 'Notary system', 'online grocery store', 'Payment settelment', 'pdf and shutil', 'Pie Chart Bot Creator', 'practices', 'practices1', 'Products Data', 'python', 'Python Basic Programming', 'Robot frame work level 2', 'Robotic framework level 1', 'RPA Challenge', 'school Info', 'server', 'weather clothing guide', 'weather gathering']\n"
     ]
    }
   ],
   "source": [
    "#Write a Python program to list all files in a directory in Python.\n",
    "\"\"\"\n",
    "Solution:\n",
    "        0:import libarary\n",
    "        1: give path\n",
    "        2: os.lisstr() return lis in directory\n",
    "        3: print\n",
    "\n",
    "\"\"\"\n",
    "import os\n",
    "path = \"C://Users//ih772//Documents//Process Studio Workspace\"\n",
    "dir_list = os.listdir(path)\n",
    "print(\"Files and directories in '\", path, \"' :\")\n",
    "print(dir_list)"
   ]
  },
  {
   "cell_type": "code",
   "execution_count": 65,
   "id": "05f8f34b-59c2-4685-b090-70ae7eb5cb50",
   "metadata": {},
   "outputs": [
    {
     "name": "stdout",
     "output_type": "stream",
     "text": [
      "imran"
     ]
    }
   ],
   "source": [
    "#Write a Python program to print without newline or space.\n",
    "\"\"\"\n",
    "Solution:\n",
    "        0:print output anything and end with a newline characte\n",
    "        1:use end is equal to empty to print it on the same line \n",
    "\n",
    "\"\"\"\n",
    "print(\"imran\",end=\"\")\n"
   ]
  },
  {
   "cell_type": "code",
   "execution_count": 66,
   "id": "a0668a28-0e60-415c-949c-277d6c6d25f0",
   "metadata": {},
   "outputs": [
    {
     "name": "stdout",
     "output_type": "stream",
     "text": [
      "         6 function calls in 0.000 seconds\n",
      "\n",
      "   Ordered by: standard name\n",
      "\n",
      "   ncalls  tottime  percall  cumtime  percall filename:lineno(function)\n",
      "        1    0.000    0.000    0.000    0.000 <string>:1(<module>)\n",
      "        1    0.000    0.000    0.000    0.000 re.py:232(compile)\n",
      "        1    0.000    0.000    0.000    0.000 re.py:271(_compile)\n",
      "        1    0.000    0.000    0.000    0.000 {built-in method builtins.exec}\n",
      "        1    0.000    0.000    0.000    0.000 {built-in method builtins.isinstance}\n",
      "        1    0.000    0.000    0.000    0.000 {method 'disable' of '_lsprof.Profiler' objects}\n",
      "\n",
      "\n"
     ]
    }
   ],
   "source": [
    "\"\"\"Write a Python program to determine profiling of Python programs.\n",
    "Note: A profile is a set of statistics that describes how often and for how long various parts of the program executed. \n",
    "These statistics can be formatted into reports via the pstats module.\"\"\"\n",
    "\"\"\"\n",
    "Solution:\n",
    "        0:pimport library\n",
    "        1:cProfile.run its fun the function calls\n",
    "        2:'re.compile(\"foo|bar\")' how many time its call \n",
    "\n",
    "\"\"\"\n",
    "import cProfile\n",
    "import re\n",
    "cProfile.run('re.compile(\"foo|bar\")')"
   ]
  },
  {
   "cell_type": "code",
   "execution_count": 69,
   "id": "67d8c655-55dc-4483-9c44-020631cf075a",
   "metadata": {},
   "outputs": [
    {
     "data": {
      "text/plain": [
       "'ih772'"
      ]
     },
     "execution_count": 69,
     "metadata": {},
     "output_type": "execute_result"
    }
   ],
   "source": [
    "#Write a Python program to get the current username\n",
    "\"\"\"\n",
    "Solution:\n",
    "        0:import library\n",
    "        1:user method getlogin()\n",
    "\"\"\"\n",
    "import os\n",
    "os.getlogin()"
   ]
  },
  {
   "cell_type": "code",
   "execution_count": 73,
   "id": "84153d54-48a4-4a2c-bfb7-4b26dc816b22",
   "metadata": {},
   "outputs": [
    {
     "name": "stdout",
     "output_type": "stream",
     "text": [
      "('192.168.0.236', 56537)\n",
      "192.168.0.236\n"
     ]
    }
   ],
   "source": [
    "#Write a Python to find local IP addresses using Python's stdlib\n",
    "\"\"\"\n",
    "Solution:\n",
    "        0:import library socket\n",
    "        1:make object of socket\n",
    "        2:make connection\n",
    "        3:\n",
    "\"\"\"\n",
    "import socket\n",
    "s = socket.socket(socket.AF_INET, socket.SOCK_DGRAM)\n",
    "s.connect((\"8.8.8.8\", 80))\n",
    "print(s.getsockname()[0])\n",
    "s.close()"
   ]
  },
  {
   "cell_type": "code",
   "execution_count": 90,
   "id": "e5f07ef1-877e-4c17-a182-f9f265746e24",
   "metadata": {},
   "outputs": [
    {
     "name": "stdout",
     "output_type": "stream",
     "text": [
      " The width of console is :80\n",
      " The height of console is :24\n"
     ]
    }
   ],
   "source": [
    "#Write a Python program to get height and width of the console window.\n",
    "\"\"\"\n",
    "Solution:\n",
    "        0:import library shutil\n",
    "        1:use method get_terminal_size for size\n",
    "        2:store colum and lines \n",
    "        3:print height width\n",
    "\"\"\"\n",
    "import shutil\n",
    "size = shutil.get_terminal_size()\n",
    "width, height= size.columns, size.lines\n",
    "print(f\" The width of console is :{width}\")\n",
    "print(f\" The height of console is :{height}\")"
   ]
  },
  {
   "cell_type": "code",
   "execution_count": 94,
   "id": "0abe3e37-b5ad-4f56-bc4c-05ac370b3bdf",
   "metadata": {},
   "outputs": [
    {
     "name": "stdout",
     "output_type": "stream",
     "text": [
      "--- 10.014756202697754 seconds ---\n"
     ]
    }
   ],
   "source": [
    "#Write a program to get execution time for a Python method.\n",
    "\"\"\"\n",
    "Solution:\n",
    "        0:import library time\n",
    "        1:use method time.time() to get start date\n",
    "        2:use sleep \n",
    "        3:time.time() for current time \n",
    "        4:subtract start time and current time \n",
    "        print\n",
    "\"\"\"\n",
    "import time\n",
    "start_time = time.time()\n",
    "time.sleep(10)\n",
    "print(\"--- %s seconds ---\" % (time.time() - start_time))"
   ]
  },
  {
   "cell_type": "code",
   "execution_count": 104,
   "id": "759c058d-c2d2-4887-a0af-29fc32847cce",
   "metadata": {},
   "outputs": [
    {
     "name": "stdin",
     "output_type": "stream",
     "text": [
      "Enter secounds 2300\n"
     ]
    },
    {
     "name": "stdout",
     "output_type": "stream",
     "text": [
      "2300s have 0days\n",
      "2300s have 0.6388888888888888 hours\n",
      "2300s have 38.333333333333336 mins\n"
     ]
    }
   ],
   "source": [
    "#Write a Python program to convert seconds to day, hour, minutes and seconds.\n",
    "\"\"\"\n",
    "Solution:\n",
    "        0:input sec\n",
    "        1:Convert it into int\n",
    "        2:apply formulas\n",
    "        3:print\n",
    "\"\"\"\n",
    "sec=input(\"Enter secounds\")\n",
    "sec=int(sec)\n",
    "day=int(sec/86400)\n",
    "print(f\"{sec}s have {day}days\")\n",
    "hour=sec/3600\n",
    "print(f\"{sec}s have {hour} hours\")\n",
    "min=sec/60\n",
    "print(f\"{sec}s have {min} mins\")"
   ]
  },
  {
   "cell_type": "code",
   "execution_count": 120,
   "id": "6c1d37f7-5300-449b-a741-9f8bd5ccb7db",
   "metadata": {},
   "outputs": [
    {
     "name": "stdout",
     "output_type": "stream",
     "text": [
      "sorted numbers are 2,23,78\n"
     ]
    }
   ],
   "source": [
    "#Write a Python program to sort three integers without using conditional statements and loops.\n",
    "\"\"\"\n",
    "Solution:\n",
    "        0:declear variable \n",
    "        1:apply formulas\n",
    "        2:print\n",
    "\"\"\"\n",
    "a, b, c = 78, 2, 23\n",
    "smallest = (a + b - abs(a - b)) // 2\n",
    "smallest = (smallest + c - abs(smallest - c)) // 2\n",
    "largest = (a + b + abs(a - b)) // 2\n",
    "largest = (largest + c + abs(largest - c)) // 2\n",
    "middle = a + b + c - smallest - largest\n",
    "print(f\"sorted numbers are {smallest},{middle},{largest}\")"
   ]
  },
  {
   "cell_type": "code",
   "execution_count": 143,
   "id": "c36b33bb-6cc6-4310-985a-fb06e38523d9",
   "metadata": {},
   "outputs": [
    {
     "name": "stdout",
     "output_type": "stream",
     "text": [
      "git.txt: 1714394513.0\n",
      "customer onboarding: 1716922099.6767867\n",
      "Booking Land Virtual: 1717073023.7028806\n",
      "day 6: 1717073035.7720792\n",
      "excel automation: 1717073057.818165\n",
      "frames and iframes: 1717073072.9521027\n",
      "integrating gpt: 1717073082.8106635\n",
      "login portal: 1717073102.164696\n",
      "Notary system: 1717073119.4651341\n",
      "practices1: 1717073262.773479\n",
      "Robot frame work level 2: 1717073292.8478224\n",
      "Robotic framework level 1: 1717073325.0345984\n",
      "school Info: 1717073338.2222066\n",
      "server: 1717073369.6705587\n",
      "weather gathering: 1717156053.952211\n",
      "HR portal: 1717157320.398711\n",
      "Products Data: 1717316594.867046\n",
      "RPA Challenge: 1717401927.5942726\n",
      "file extraction into excel: 1717588111.9913118\n",
      "job description: 1717589794.2678134\n",
      "Payment settelment: 1717645068.5635746\n",
      "practices: 1717667711.663289\n",
      "desktop automation: 1717670123.9231298\n",
      "weather clothing guide: 1717679456.8545396\n",
      "Pie Chart Bot Creator: 1717748176.134308\n",
      "HUMANITARIAN RESPONSE: 1717760182.6434953\n",
      "online grocery store: 1717760393.336199\n",
      "Capcha bipass: 1718097101.8073556\n",
      "cyber security: 1718121942.427862\n",
      "pdf and shutil: 1718196137.9301853\n",
      "background verification: 1718199174.5066545\n",
      "Amazon rpa books: 1718263528.0799317\n",
      "python: 1718368557.1578007\n",
      "Python Basic Programming: 1718969428.541478\n"
     ]
    }
   ],
   "source": [
    "#Write a Python program to get a directory listing, sorted by creation date.\n",
    "\"\"\"\n",
    "Solution:\n",
    "        0:declear path\n",
    "        1:get file list\n",
    "        2:get date for time \n",
    "        3:sort files\n",
    "        4:return sort files\n",
    "\"\"\"\n",
    "import os\n",
    "\n",
    "def sort_files_by_date(folder_path):\n",
    "    files = os.listdir(folder_path)\n",
    "    file_times = [(filename, os.path.getmtime(os.path.join(folder_path, filename))) for filename in files]\n",
    "    sorted_files = sorted(file_times, key=lambda x: x[1])\n",
    "    return sorted_files\n",
    "folder_path = \"C://Users//ih772//Documents//Process Studio Workspace\"\n",
    "sorted_files = sort_files_by_date(folder_path)\n",
    "for filename, modification_time in sorted_files:\n",
    "    print(f\"{filename}: {modification_time}\")\n"
   ]
  },
  {
   "cell_type": "code",
   "execution_count": 153,
   "id": "707b4611-e43d-4602-a40b-af239dc621f0",
   "metadata": {},
   "outputs": [
    {
     "name": "stdout",
     "output_type": "stream",
     "text": [
      "The SHA-256 hash of the word imran is: e378432fc68f9b707bd923e7968c1524c57e91ffc62a89b5a29bbb2473a65979\n"
     ]
    }
   ],
   "source": [
    "#Write a Python program to hash a word\n",
    "\"\"\"\n",
    "Solution:\n",
    "        0:import library\n",
    "        1:declear word\n",
    "        2:use encode utf-8\n",
    "        3:\n",
    "        4:return sort files\n",
    "\"\"\"\n",
    "import hashlib\n",
    "word = \"imran\"\n",
    "#word_bytes = word.encode('utf-8')\n",
    "#hash_object = hashlib.sha256(word_bytes)\n",
    "hashed_word = hash_object.hexdigest()\n",
    "print(f\"The SHA-256 hash of the word {word} is: {hashed_word}\")\n",
    "#e378432fc68f9b707bd923e7968c1524c57e91ffc62a89b5a29bbb2473a65979"
   ]
  },
  {
   "cell_type": "code",
   "execution_count": 127,
   "id": "130cf256-64d9-486d-9138-d83e2681059d",
   "metadata": {},
   "outputs": [],
   "source": [
    "#Write a Python program to create a copy of its own source code.\n",
    "def create_self_copy():\n",
    "    # Define the source code of the program as a string\n",
    "    source_code = '''def create_self_copy():\n",
    "    # Define the source code of the program as a string\n",
    "    source_code = {0}{1}{0}\n",
    "    # Write the source code to a new file\n",
    "    with open('copy_of_self.py', 'w') as file:\n",
    "        file.write(source_code.format(chr(39) * 3, source_code))\n",
    "\n",
    "# Call the function\n",
    "create_self_copy()\n",
    "'''\n",
    "    # Write the source code to a new file\n",
    "    with open('copy_of_self.py', 'w') as file:\n",
    "        file.write(source_code.format(chr(39) * 3, source_code))\n",
    "\n",
    "# Call the function\n",
    "create_self_copy()\n"
   ]
  },
  {
   "cell_type": "code",
   "execution_count": 128,
   "id": "7e545eb8-f6b0-43c0-9d3f-2f9d4c47548e",
   "metadata": {},
   "outputs": [
    {
     "name": "stdout",
     "output_type": "stream",
     "text": [
      "Is '192.168.1.1' a valid IP address? True\n",
      "Is '256.256.256.256' a valid IP address? False\n"
     ]
    }
   ],
   "source": [
    "import ipaddress\n",
    "\n",
    "def validate_ip_address(ip):\n",
    "    try:\n",
    "        # Check if the IP address is valid\n",
    "        ipaddress.ip_address(ip)\n",
    "        return True\n",
    "    except ValueError:\n",
    "        return False\n",
    "\n",
    "# Example usage\n",
    "ip1 = \"192.168.1.1\"\n",
    "ip2 = \"256.256.256.256\"\n",
    "\n",
    "print(f\"Is '{ip1}' a valid IP address? {validate_ip_address(ip1)}\")\n",
    "print(f\"Is '{ip2}' a valid IP address? {validate_ip_address(ip2)}\")\n"
   ]
  },
  {
   "cell_type": "code",
   "execution_count": 142,
   "id": "962151c8-56a0-403e-b6c7-2547d0ec687c",
   "metadata": {},
   "outputs": [],
   "source": [
    "#Write a Python program to find files and skip directories of a given directory\n",
    "\"\"\"\n",
    "\n",
    "\"\"\"\n",
    "import os\n",
    "folder_path = \"C://Users//ih772//Documents//Process Studio Workspace\"\n",
    "\n",
    "for files in os.listdir(folder_path):\n",
    "    if os.path.isdir(folder_path):\n",
    "        continue"
   ]
  }
 ],
 "metadata": {
  "kernelspec": {
   "display_name": "Python 3",
   "language": "python",
   "name": "python3"
  },
  "language_info": {
   "codemirror_mode": {
    "name": "ipython",
    "version": 3
   },
   "file_extension": ".py",
   "mimetype": "text/x-python",
   "name": "python",
   "nbconvert_exporter": "python",
   "pygments_lexer": "ipython3",
   "version": "3.7.5"
  }
 },
 "nbformat": 4,
 "nbformat_minor": 5
}
